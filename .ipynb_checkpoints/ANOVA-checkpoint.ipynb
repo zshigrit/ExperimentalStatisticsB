{
 "cells": [
  {
   "cell_type": "markdown",
   "id": "121b95a3-d4d1-4dad-9a4a-53b325062b8e",
   "metadata": {},
   "source": [
    "# ANOVA"
   ]
  },
  {
   "cell_type": "code",
   "execution_count": null,
   "id": "25b6e12f-90b3-44ff-9d34-250f38663efe",
   "metadata": {},
   "outputs": [],
   "source": []
  }
 ],
 "metadata": {
  "kernelspec": {
   "display_name": "Python 3 (ipykernel)",
   "language": "python",
   "name": "python3"
  },
  "language_info": {
   "codemirror_mode": {
    "name": "ipython",
    "version": 3
   },
   "file_extension": ".py",
   "mimetype": "text/x-python",
   "name": "python",
   "nbconvert_exporter": "python",
   "pygments_lexer": "ipython3",
   "version": "3.8.15"
  }
 },
 "nbformat": 4,
 "nbformat_minor": 5
}
